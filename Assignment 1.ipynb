{
 "cells": [
  {
   "cell_type": "code",
   "execution_count": 9,
   "id": "f7a910cc",
   "metadata": {},
   "outputs": [],
   "source": [
    "#pwd"
   ]
  },
  {
   "cell_type": "code",
   "execution_count": 8,
   "id": "bc6955dd",
   "metadata": {},
   "outputs": [],
   "source": [
    "#import this"
   ]
  },
  {
   "cell_type": "raw",
   "id": "2d15ca57",
   "metadata": {},
   "source": [
    "1. In the below elements which of them are values or an expression? \n",
    "eg:- values can be integer or string and expressions will be mathematical operators.\n",
    "* \n",
    "'hello'\n",
    "-87.8\n",
    "- \n",
    "/ \n",
    "+\t\n",
    "6 \n",
    "\n",
    "Ans: 'hello', -87.8 and 6 are string/expressions, rest are operators\n"
   ]
  },
  {
   "cell_type": "raw",
   "id": "17902551",
   "metadata": {},
   "source": [
    "2. What is the difference between string and variable?\n",
    "\n",
    "Ans: string is fixed string, variable is something where we store data"
   ]
  },
  {
   "cell_type": "raw",
   "id": "4f0e5a0b",
   "metadata": {},
   "source": [
    "3. Describe three different data types.\n",
    "Ans: int = numerical values\n",
    "boolean = true or false\n",
    "string = alpanumeric values"
   ]
  },
  {
   "cell_type": "raw",
   "id": "2a997ff1",
   "metadata": {},
   "source": [
    "4. What is an expression made up of? What do all expressions do?\n",
    "Ans: expression is made of operators. It carries out operations provided by us"
   ]
  },
  {
   "cell_type": "raw",
   "id": "c639b024",
   "metadata": {},
   "source": [
    "5. This assignment statements, like spam = 10. What is the difference between an expression and a statement?\n",
    "Ans: statement assigns value, expression calculates operations given by us. expression eg.  5+2"
   ]
  },
  {
   "cell_type": "raw",
   "id": "1c8c2269",
   "metadata": {},
   "source": [
    "6. After running the following code, what does the variable bacon contain?\n",
    "bacon = 22\n",
    "bacon + 1\n",
    "Ans:22\n"
   ]
  },
  {
   "cell_type": "raw",
   "id": "c55d83ca",
   "metadata": {},
   "source": [
    "7. What should the values of the following two terms be?\n",
    "'spam' + 'spamspam'\n",
    "'spam' * 3\n",
    "Ans: 'spamspamspam', 'spamspamspam'\n"
   ]
  },
  {
   "cell_type": "raw",
   "id": "838c8923",
   "metadata": {},
   "source": [
    "8. Why is eggs a valid variable name while 100 is invalid?\n",
    "Ans: eggs start with alphabets, hence it is valid, 100 starts with string that's why it is invalid"
   ]
  }
 ],
 "metadata": {
  "kernelspec": {
   "display_name": "Python 3",
   "language": "python",
   "name": "python3"
  },
  "language_info": {
   "codemirror_mode": {
    "name": "ipython",
    "version": 3
   },
   "file_extension": ".py",
   "mimetype": "text/x-python",
   "name": "python",
   "nbconvert_exporter": "python",
   "pygments_lexer": "ipython3",
   "version": "3.8.8"
  }
 },
 "nbformat": 4,
 "nbformat_minor": 5
}
